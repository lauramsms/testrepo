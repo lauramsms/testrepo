{
  "nbformat": 4,
  "nbformat_minor": 0,
  "metadata": {
    "colab": {
      "provenance": [],
      "authorship_tag": "ABX9TyPU+Me/19i/mxeQX6fwM49O",
      "include_colab_link": true
    },
    "kernelspec": {
      "name": "python3",
      "display_name": "Python 3"
    },
    "language_info": {
      "name": "python"
    }
  },
  "cells": [
    {
      "cell_type": "markdown",
      "metadata": {
        "id": "view-in-github",
        "colab_type": "text"
      },
      "source": [
        "<a href=\"https://colab.research.google.com/github/lauramsms/testrepo/blob/main/DataScienceEcosystem.ipynb\" target=\"_parent\"><img src=\"https://colab.research.google.com/assets/colab-badge.svg\" alt=\"Open In Colab\"/></a>"
      ]
    },
    {
      "cell_type": "markdown",
      "source": [
        "#Data Science Tools and Ecosystem"
      ],
      "metadata": {
        "id": "tjHiMxzVUWCJ"
      }
    },
    {
      "cell_type": "markdown",
      "source": [
        "In this notebook, Data Science Tools and Ecosystem are summarized."
      ],
      "metadata": {
        "id": "bjHpo7fyaK5P"
      }
    },
    {
      "cell_type": "markdown",
      "source": [
        "**Objectives:**\n",
        "1. Create a Jupyter Notebook\n",
        "\n",
        "2. Insert code and markdown cells\n",
        "\n",
        "3. Share your notebook through GitHub"
      ],
      "metadata": {
        "id": "_STENrwJk5PR"
      }
    },
    {
      "cell_type": "markdown",
      "source": [
        "Some of the popular languages that Data Scientists use are:\n",
        "1. Python\n",
        "2. R\n",
        "3. SQL\n",
        "4. Scala\n",
        "5. Java\n",
        "6. C + +\n",
        "7. Julia"
      ],
      "metadata": {
        "id": "SpNH967padOe"
      }
    },
    {
      "cell_type": "markdown",
      "source": [
        "| Data Science Tools |\n",
        "| --------- |\n",
        "| MySQL |\n",
        "| MongoDB |\n",
        "| Apache CouchDB |\n"
      ],
      "metadata": {
        "id": "ywey61U1h7fT"
      }
    },
    {
      "cell_type": "markdown",
      "source": [
        "### Below are a few examples of evaluating arithmetic expressions in Python\n",
        "+ +\n",
        "+ *\n",
        "+ -\n"
      ],
      "metadata": {
        "id": "ZcBroucWjSDu"
      }
    },
    {
      "cell_type": "markdown",
      "source": [
        "##### This a simple arithmetic expression to mutiply then add integers\n"
      ],
      "metadata": {
        "id": "TjcW5m9xkPp0"
      }
    },
    {
      "cell_type": "code",
      "source": [
        "(3*4)+5\n"
      ],
      "metadata": {
        "colab": {
          "base_uri": "https://localhost:8080/"
        },
        "id": "6uuPKj6xj66q",
        "outputId": "b26a95b0-5d53-407d-8441-008e5ffeeeff"
      },
      "execution_count": 2,
      "outputs": [
        {
          "output_type": "execute_result",
          "data": {
            "text/plain": [
              "17"
            ]
          },
          "metadata": {},
          "execution_count": 2
        }
      ]
    },
    {
      "cell_type": "markdown",
      "source": [
        "##### This will convert 200 minutes to hours by diving by 60"
      ],
      "metadata": {
        "id": "DYHZDvg4kUv4"
      }
    },
    {
      "cell_type": "code",
      "source": [
        "200/60"
      ],
      "metadata": {
        "colab": {
          "base_uri": "https://localhost:8080/"
        },
        "id": "UBQw0X2-kYrK",
        "outputId": "3ca77fbd-0a41-4e96-8041-9b866305fe68"
      },
      "execution_count": 3,
      "outputs": [
        {
          "output_type": "execute_result",
          "data": {
            "text/plain": [
              "3.3333333333333335"
            ]
          },
          "metadata": {},
          "execution_count": 3
        }
      ]
    },
    {
      "cell_type": "markdown",
      "source": [
        "##Author"
      ],
      "metadata": {
        "id": "wk5e0p4gpq-6"
      }
    },
    {
      "cell_type": "markdown",
      "source": [
        "Laura Molero"
      ],
      "metadata": {
        "id": "MwLnDM6CpttO"
      }
    }
  ]
}