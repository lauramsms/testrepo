{
  "nbformat": 4,
  "nbformat_minor": 0,
  "metadata": {
    "colab": {
      "provenance": [],
      "authorship_tag": "ABX9TyO+XA8poXTb0VIAX8o1a07R",
      "include_colab_link": true
    },
    "kernelspec": {
      "name": "python3",
      "display_name": "Python 3"
    },
    "language_info": {
      "name": "python"
    }
  },
  "cells": [
    {
      "cell_type": "markdown",
      "metadata": {
        "id": "view-in-github",
        "colab_type": "text"
      },
      "source": [
        "<a href=\"https://colab.research.google.com/github/lauramsms/testrepo/blob/main/DataScienceEcosystem.ipynb\" target=\"_parent\"><img src=\"https://colab.research.google.com/assets/colab-badge.svg\" alt=\"Open In Colab\"/></a>"
      ]
    },
    {
      "cell_type": "markdown",
      "source": [
        "** Exercise 2: Create markdown cell with title of the notebook **"
      ],
      "metadata": {
        "id": "FGzCp0_Hrbsz"
      }
    },
    {
      "cell_type": "markdown",
      "source": [
        "#Data Science Tools and Ecosystem"
      ],
      "metadata": {
        "id": "tjHiMxzVUWCJ"
      }
    },
    {
      "cell_type": "markdown",
      "source": [
        "** Exercise 3 - Create a markdown cell for an introduction**"
      ],
      "metadata": {
        "id": "D8mqqbYwrrcV"
      }
    },
    {
      "cell_type": "markdown",
      "source": [
        "In this notebook, Data Science Tools and Ecosystem are summarized."
      ],
      "metadata": {
        "id": "bjHpo7fyaK5P"
      }
    },
    {
      "cell_type": "markdown",
      "source": [
        "** Exercise 10 - Insert a markdown cell to list Objectives**"
      ],
      "metadata": {
        "id": "Bl1lMlOSsl_9"
      }
    },
    {
      "cell_type": "markdown",
      "source": [
        "**Objectives:**\n",
        "1. Create a Jupyter Notebook\n",
        "\n",
        "2. Insert code and markdown cells\n",
        "\n",
        "3. Share your notebook through GitHub"
      ],
      "metadata": {
        "id": "_STENrwJk5PR"
      }
    },
    {
      "cell_type": "markdown",
      "source": [
        "** Exercise 4 - Create a markdown cell to list data science languages **"
      ],
      "metadata": {
        "id": "ALle4RPdr9EX"
      }
    },
    {
      "cell_type": "markdown",
      "source": [
        "Some of the popular languages that Data Scientists use are:\n",
        "1. Python\n",
        "2. R\n",
        "3. SQL\n",
        "4. Scala\n",
        "5. Java\n",
        "6. C + +\n",
        "7. Julia"
      ],
      "metadata": {
        "id": "SpNH967padOe"
      }
    },
    {
      "cell_type": "markdown",
      "source": [
        "** Exercise 5 - Create a markdown cell to list data science libraries**"
      ],
      "metadata": {
        "id": "nYcSKdYzsCpt"
      }
    },
    {
      "cell_type": "markdown",
      "source": [
        "1. Numpy\n",
        "2. ggplot\n",
        "3. pandas\n",
        "4. caret\n",
        "5. string"
      ],
      "metadata": {
        "id": "6pItqvjPsEF3"
      }
    },
    {
      "cell_type": "markdown",
      "source": [
        "** Exercise 6 - Create a markdown cell with a table of Data Science tools **"
      ],
      "metadata": {
        "id": "ji_UIOYGsRFG"
      }
    },
    {
      "cell_type": "markdown",
      "source": [
        "| Data Science Tools |\n",
        "| --------- |\n",
        "| MySQL |\n",
        "| MongoDB |\n",
        "| Apache CouchDB |\n"
      ],
      "metadata": {
        "id": "ywey61U1h7fT"
      }
    },
    {
      "cell_type": "markdown",
      "source": [
        "** Exercise 7 - Create a markdown cell introducing arithmetic expression exampl**"
      ],
      "metadata": {
        "id": "q-QOVEffsU85"
      }
    },
    {
      "cell_type": "markdown",
      "source": [
        "### Below are a few examples of evaluating arithmetic expressions in Python\n",
        "+ +\n",
        "+ *\n",
        "+ -\n"
      ],
      "metadata": {
        "id": "ZcBroucWjSDu"
      }
    },
    {
      "cell_type": "markdown",
      "source": [
        "** Exercise 8 - Create a code cell to multiply and add numbers**"
      ],
      "metadata": {
        "id": "y9qdy2ausa2F"
      }
    },
    {
      "cell_type": "markdown",
      "source": [
        "##### This a simple arithmetic expression to mutiply then add integers\n"
      ],
      "metadata": {
        "id": "TjcW5m9xkPp0"
      }
    },
    {
      "cell_type": "code",
      "source": [
        "(3*4)+5\n"
      ],
      "metadata": {
        "colab": {
          "base_uri": "https://localhost:8080/"
        },
        "id": "6uuPKj6xj66q",
        "outputId": "b26a95b0-5d53-407d-8441-008e5ffeeeff"
      },
      "execution_count": 2,
      "outputs": [
        {
          "output_type": "execute_result",
          "data": {
            "text/plain": [
              "17"
            ]
          },
          "metadata": {},
          "execution_count": 2
        }
      ]
    },
    {
      "cell_type": "markdown",
      "source": [
        "** Exercise 9 - Create a code cell to convert minutes to hours **"
      ],
      "metadata": {
        "id": "P4CBc-L3sg22"
      }
    },
    {
      "cell_type": "markdown",
      "source": [
        "##### This will convert 200 minutes to hours by diving by 60"
      ],
      "metadata": {
        "id": "DYHZDvg4kUv4"
      }
    },
    {
      "cell_type": "code",
      "source": [
        "200/60"
      ],
      "metadata": {
        "colab": {
          "base_uri": "https://localhost:8080/"
        },
        "id": "UBQw0X2-kYrK",
        "outputId": "3ca77fbd-0a41-4e96-8041-9b866305fe68"
      },
      "execution_count": 3,
      "outputs": [
        {
          "output_type": "execute_result",
          "data": {
            "text/plain": [
              "3.3333333333333335"
            ]
          },
          "metadata": {},
          "execution_count": 3
        }
      ]
    },
    {
      "cell_type": "markdown",
      "source": [
        "** Exercise 11 - Create a markdown cell to indicate the Author's name**"
      ],
      "metadata": {
        "id": "ZmCoBhEOsvBW"
      }
    },
    {
      "cell_type": "markdown",
      "source": [
        "##Author"
      ],
      "metadata": {
        "id": "wk5e0p4gpq-6"
      }
    },
    {
      "cell_type": "markdown",
      "source": [
        "Laura Molero"
      ],
      "metadata": {
        "id": "MwLnDM6CpttO"
      }
    },
    {
      "cell_type": "markdown",
      "source": [
        "** Exercise 12 - Share your notebook through GitHub**"
      ],
      "metadata": {
        "id": "lTMrVhNxs6ke"
      }
    },
    {
      "cell_type": "markdown",
      "source": [
        "![ 1-notebook.png](\"C:\\Users\\Laura\\OneDrive\\Escritorio\\1-notebook.jpg\")"
      ],
      "metadata": {
        "id": "Bn_EW9ZbtBmn"
      }
    }
  ]
}